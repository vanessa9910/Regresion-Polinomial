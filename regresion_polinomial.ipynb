{
 "cells": [
  {
   "cell_type": "code",
   "execution_count": 16,
   "metadata": {
    "collapsed": false
   },
   "outputs": [
    {
     "name": "stdout",
     "output_type": "stream",
     "text": [
      "coeficientes [[-16.340000000000003], [16.340000000000003]]\n",
      "El rendimiento es: \n",
      "[98.04000000000002]\n"
     ]
    },
    {
     "data": {
      "image/png": "[encoded data removed]"
     },
     "execution_count": 16,
     "metadata": {
      "image/png": {
       "height": 250,
       "width": 379
      },
      "needs_background": "light"
     },
     "output_type": "execute_result"
    }
   ],
   "source": [
    "import matplotlib.pyplot as plt\n",
    "import numpy as np\n",
    "\n",
    "def createMatriz(m,n,v):\n",
    "    C = []\n",
    "    for i in range(m):\n",
    "        C.append([])\n",
    "        for j in range(n):\n",
    "            C[i].append(v)\n",
    "\n",
    "    return C\n",
    "\n",
    "def getDimensiones(A):\n",
    "    return (len(A),len(A[0]))\n",
    "\n",
    "def sumMatrices(A,B):\n",
    "    Am,An = getDimensiones(A)\n",
    "    Bm,Bn = getDimensiones(B)\n",
    "    if Am != Bm or An != Bn:\n",
    "        print(\"Las dimensiones son diferentes\")\n",
    "        return []\n",
    "    C = createMatriz(Am,An,0)\n",
    "    for i in range(Am):\n",
    "        for j in range(An):\n",
    "            C[i][j] = A[i][j] + B[i][j]\n",
    "    return C\n",
    "\n",
    "def restaMatrices(A,B):\n",
    "    Am,An = getDimensiones(A)\n",
    "    Bm,Bn = getDimensiones(B)\n",
    "    if Am != Bm or An != Bn:\n",
    "        print(\"Las dimensiones son diferentes\")\n",
    "        return []\n",
    "    C = createMatriz(Am,An,0)\n",
    "    for i in range(Am):\n",
    "        for j in range(An):\n",
    "            C[i][j] = A[i][j] - B[i][j]\n",
    "    return C\n",
    "\n",
    "def mulMatrices(A,B):\n",
    "    Am,An = getDimensiones(A)\n",
    "    Bm,Bn = getDimensiones(B)\n",
    "    if An != Bm:\n",
    "        print(\"Las matrices no son conformables\")\n",
    "        return []\n",
    "    C = createMatriz(Am,Bn,0)\n",
    "    for i in range(Am):\n",
    "        for j in range(Bn):\n",
    "            for k in range(An):\n",
    "                C[i][j] += A[i][k] * B[k][j]\n",
    "    return C\n",
    "def getMenorMatriz(A,r,c):\n",
    "    m,n = getDimensiones(A)\n",
    "    C = createMatriz(m-1,n-1,0)\n",
    "    for i in range(m):\n",
    "        if i == r:\n",
    "            continue\n",
    "        for j in range(n):\n",
    "            if j == c:\n",
    "                continue\n",
    "            Ci = i\n",
    "            if i > r:\n",
    "                Ci = i - 1\n",
    "            Cj = j\n",
    "            if j > c:\n",
    "                Cj = j -1\n",
    "            C[Ci][Cj] = A[i][j]\n",
    "    return C\n",
    "\n",
    "def detMatriz(A):\n",
    "    m,n = getDimensiones(A)\n",
    "    if m != n:\n",
    "        print(\"La matriz no es cuadrada\")\n",
    "        return -1\n",
    "    if m == 1:\n",
    "        return m\n",
    "    if m == 2:\n",
    "        return  A[0][0]*A[1][1] - A[0][1]*A[1][0]\n",
    "    det = 0\n",
    "    for j in range(n):\n",
    "        det += (-1)**(j)*A[0][j]*detMatriz(getMenorMatriz(A,0,j))\n",
    "    return det\n",
    "\n",
    "def getMatrizAdyacente(A):\n",
    "    m,n = getDimensiones(A)\n",
    "    C = createMatriz(m,n,0)\n",
    "    for i in range(m):\n",
    "        for j in range(n):\n",
    "            C[i][j] = (-1)**(i+j)*detMatriz(getMenorMatriz(A,i,j))\n",
    "    return C\n",
    "\n",
    "def getMatrizTranspuesta(A):\n",
    "    m,n = getDimensiones(A)\n",
    "    C = createMatriz(n,m,0)\n",
    "    for i in range(m):\n",
    "        for j in range(n):\n",
    "            C[j][i] = A[i][j]\n",
    "    return C\n",
    "\n",
    "def getMatrizInversa(A):\n",
    "    detA = detMatriz(A)\n",
    "    if detA == 0:\n",
    "        print(\"La matriz no tiene inversa\")\n",
    "        return 0\n",
    "    At =  getMatrizTranspuesta(A)\n",
    "    adyAt =  getMatrizAdyacente(At)\n",
    "    m,n = getDimensiones(A)\n",
    "    C = createMatriz(m,n,0)\n",
    "    for i in range(m):\n",
    "        for j in range(n):\n",
    "            C[i][j] = (1/detA)*adyAt[i][j]\n",
    "    return C\n",
    "\n",
    "x = [1,2,3,4,5]\n",
    "y = [88,87,84,82,79]\n",
    "\n",
    "plt.plot(x,y,'rx')\n",
    "\n",
    "\n",
    "def regresion(n,x,y):\n",
    "    dim = n + 1\n",
    "    A = createMatriz(dim,dim,0)\n",
    "    for i in range(dim):\n",
    "        for j in range(dim):\n",
    "            A[i][j] = sum(xi**(i+j) for xi in x)\n",
    "    C = createMatriz(dim,1,0)\n",
    "    for i in range(dim):\n",
    "        C[i][0] = sum(yi * xi**(i) for xi,yi in zip(x,y) )\n",
    "    invA = getMatrizInversa(A)\n",
    "    B = mulMatrices(invA,C)\n",
    "    return B\n",
    "\n",
    "coef = regresion(1,x,y)\n",
    "print(\"coeficientes\",coef)\n",
    "\n",
    "\n",
    "x2 = np.linspace(0, 10, 100)\n",
    "\n",
    "def evalua(x,coef):\n",
    "    y = []\n",
    "    for i in range(len(x)):\n",
    "        y.append(0)\n",
    "        for j in range(len(coef)):\n",
    "            y[i] += coef[j][0] * x[i] **(j)\n",
    "    return y\n",
    "y2 = evalua(x2,coef)\n",
    "s=[7]\n",
    "y3 = evalua(s,coef)\n",
    "print(\"El rendimiento es: \")\n",
    "print(y3)\n",
    "plt.plot(x2,y2)\n",
    "plt.show()"
   ]
  },
  {
   "cell_type": "code",
   "execution_count": 7,
   "metadata": {
    "collapsed": false
   },
   "outputs": [
    {
     "data": {
      "image/png": "[encoded data removed]"
     },
     "execution_count": 7,
     "metadata": {
      "image/png": {
       "height": 250,
       "width": 370
      },
      "needs_background": "light"
     },
     "output_type": "execute_result"
    },
    {
     "name": "stdout",
     "output_type": "stream",
     "text": [
      "El peso es:\n",
      "74.80000000000001\n"
     ]
    }
   ],
   "source": [
    "import math\n",
    "import matplotlib.pyplot as plt\n",
    "import numpy as np\n",
    "\n",
    "x = [1,2,3,4,5]\n",
    "y = [88,87,84,82,79]\n",
    "\n",
    "n = 5\n",
    "plt.plot(x, y, 'ro')\n",
    "plt.show()\n",
    "\n",
    "sumx = sum(x)\n",
    "sumy = sum(y)\n",
    "sumx2 = sum( xi * xi for xi in x  )\n",
    "sumxy = sum ( xi * yi for xi, yi in zip(x,y) )\n",
    "\n",
    "xprom = sumx/n\n",
    "yprom = sumy/n\n",
    "sumarr = sum((xi-xprom )*(yi-yprom)for xi,yi in zip(x,y))\n",
    "sumbaj1= sum((xi-xprom)**2 for xi in x)\n",
    "sumbaj2= sum((yi-yprom)**2 for yi in y)\n",
    "r = sumarr / ((math.sqrt(sumbaj1))*(math.sqrt(sumbaj2)))\n",
    "m = (sumxy - (sumx*sumy/n))/(sumx2 - (sumx*sumx/n))\n",
    "b = (sumy/n) - (m * (sumx/n))\n",
    "res = m*7 + b\n",
    "\n",
    "\n",
    "print(\"El peso es:\")\n",
    "print (res)"
   ]
  },
  {
   "cell_type": "code",
   "execution_count": 0,
   "metadata": {
    "collapsed": false
   },
   "outputs": [
   ],
   "source": [
   ]
  },
  {
   "cell_type": "code",
   "execution_count": 0,
   "metadata": {
    "collapsed": false
   },
   "outputs": [
   ],
   "source": [
   ]
  }
 ],
 "metadata": {
  "kernelspec": {
   "display_name": "Python 3 (Anaconda 5)",
   "language": "python",
   "name": "anaconda5"
  },
  "language_info": {
   "codemirror_mode": {
    "name": "ipython",
    "version": 3
   },
   "file_extension": ".py",
   "mimetype": "text/x-python",
   "name": "python",
   "nbconvert_exporter": "python",
   "pygments_lexer": "ipython3",
   "version": "3.6.5"
  }
 },
 "nbformat": 4,
 "nbformat_minor": 0
}